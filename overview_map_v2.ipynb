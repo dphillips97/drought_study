{
 "cells": [
  {
   "cell_type": "code",
   "execution_count": 4,
   "metadata": {
    "ExecuteTime": {
     "end_time": "2020-05-04T16:23:52.286628Z",
     "start_time": "2020-05-04T16:23:52.220019Z"
    }
   },
   "outputs": [],
   "source": [
    "import os\n",
    "from glob import glob\n",
    "import warnings\n",
    "\n",
    "import numpy as np\n",
    "import matplotlib.pyplot as plt\n",
    "\n",
    "import geopandas as gpd\n",
    "import rasterio as rio\n",
    "from rasterio.plot import *\n",
    "from rasterio.merge import merge\n",
    "\n",
    "import earthpy as et\n",
    "import earthpy.plot as ep\n",
    "import earthpy.spatial as es\n",
    "\n",
    "#from shapely.geometry import box\n",
    "warnings.simplefilter('ignore')"
   ]
  },
  {
   "cell_type": "code",
   "execution_count": 3,
   "metadata": {
    "ExecuteTime": {
     "end_time": "2020-05-04T16:23:38.373065Z",
     "start_time": "2020-05-04T16:23:38.308088Z"
    }
   },
   "outputs": [],
   "source": [
    "# Set working directory\n",
    "working_dir = os.path.join(et.io.HOME, \"desktop\", \"drought\", \"data\")\n",
    "\n",
    "# Switch to working directory\n",
    "os.chdir(working_dir)\n",
    "\n",
    "aoi_path = os.path.join(\"created\", \"aoi.shp\")\n",
    "\n",
    "# Load area of interest shapefile into gdf\n",
    "aoi = gpd.read_file(aoi_path)"
   ]
  },
  {
   "cell_type": "code",
   "execution_count": 12,
   "metadata": {
    "ExecuteTime": {
     "end_time": "2020-05-04T16:28:09.250634Z",
     "start_time": "2020-05-04T16:27:27.139894Z"
    }
   },
   "outputs": [],
   "source": [
    "# Get all tifs\n",
    "landsat_tifs = glob(os.path.join(working_dir, \"landsat\", \"*_T1/\", \"*B?.tif\"))\n",
    "\n",
    "# Create empty list to hold src files\n",
    "src_files_to_mosaic = []\n",
    "\n",
    "# Open each src file as a rasterio object\n",
    "for image in landsat_tifs:\n",
    "    src = rio.open(image)\n",
    "    src_files_to_mosaic.append(src)\n",
    "\n",
    "# Merge all files into object\n",
    "mosaic, out_trans = merge(src_files_to_mosaic)"
   ]
  },
  {
   "cell_type": "code",
   "execution_count": 19,
   "metadata": {
    "ExecuteTime": {
     "end_time": "2020-05-04T16:36:47.682258Z",
     "start_time": "2020-05-04T16:36:47.673285Z"
    }
   },
   "outputs": [],
   "source": [
    "# Copy metadata\n",
    "out_meta = src.meta.copy()\n",
    "\n",
    "out_meta.update({\"driver\": \"GTiff\",\n",
    "                 \"height\": mosaic.shape[1],\n",
    "                 \"width\": mosaic.shape[2],\n",
    "                 \"transform\": out_trans,\n",
    "                 \"crs\": \"+proj=utm +zone=10 +ellps=WGS84 +units=m +no_defs \"\n",
    "                 })"
   ]
  },
  {
   "cell_type": "code",
   "execution_count": 20,
   "metadata": {
    "ExecuteTime": {
     "end_time": "2020-05-04T16:38:59.175853Z",
     "start_time": "2020-05-04T16:38:58.103900Z"
    }
   },
   "outputs": [],
   "source": [
    "out_fp = os.path.join(working_dir, \"created\", \"landsat_mosaic.tif\")\n",
    "\n",
    "with rio.open(out_fp, \"w\", **out_meta) as dest:\n",
    "    dest.write(mosaic)"
   ]
  },
  {
   "cell_type": "code",
   "execution_count": 21,
   "metadata": {
    "ExecuteTime": {
     "end_time": "2020-05-04T16:40:00.078676Z",
     "start_time": "2020-05-04T16:39:55.130820Z"
    }
   },
   "outputs": [],
   "source": [
    "with rio.open(out_fp) as src:\n",
    "    mosaic = src.read()"
   ]
  },
  {
   "cell_type": "code",
   "execution_count": 25,
   "metadata": {
    "ExecuteTime": {
     "end_time": "2020-05-04T16:40:52.705743Z",
     "start_time": "2020-05-04T16:40:52.698762Z"
    }
   },
   "outputs": [
    {
     "data": {
      "text/plain": [
       "(1, 7921, 12061)"
      ]
     },
     "execution_count": 25,
     "metadata": {},
     "output_type": "execute_result"
    }
   ],
   "source": [
    "mosaic.shape"
   ]
  },
  {
   "cell_type": "code",
   "execution_count": 24,
   "metadata": {
    "ExecuteTime": {
     "end_time": "2020-05-04T16:40:43.138357Z",
     "start_time": "2020-05-04T16:40:42.624038Z"
    },
    "scrolled": true
   },
   "outputs": [
    {
     "ename": "IndexError",
     "evalue": "index 1 is out of bounds for axis 0 with size 1",
     "output_type": "error",
     "traceback": [
      "\u001b[1;31m---------------------------------------------------------------------------\u001b[0m",
      "\u001b[1;31mIndexError\u001b[0m                                Traceback (most recent call last)",
      "\u001b[1;32m<ipython-input-24-85031b512b11>\u001b[0m in \u001b[0;36m<module>\u001b[1;34m\u001b[0m\n\u001b[0;32m      5\u001b[0m             \u001b[0mstretch\u001b[0m\u001b[1;33m=\u001b[0m\u001b[1;32mTrue\u001b[0m\u001b[1;33m,\u001b[0m\u001b[1;33m\u001b[0m\u001b[1;33m\u001b[0m\u001b[0m\n\u001b[0;32m      6\u001b[0m             \u001b[0max\u001b[0m\u001b[1;33m=\u001b[0m\u001b[0max2\u001b[0m\u001b[1;33m,\u001b[0m\u001b[1;33m\u001b[0m\u001b[1;33m\u001b[0m\u001b[0m\n\u001b[1;32m----> 7\u001b[1;33m             title=\"Landsat8 Aerial, 2020-04-26\")\n\u001b[0m\u001b[0;32m      8\u001b[0m \u001b[1;33m\u001b[0m\u001b[0m\n\u001b[0;32m      9\u001b[0m \u001b[1;33m\u001b[0m\u001b[0m\n",
      "\u001b[1;32m~\\Miniconda3\\envs\\earth-analytics-python\\lib\\site-packages\\earthpy\\plot.py\u001b[0m in \u001b[0;36mplot_rgb\u001b[1;34m(arr, rgb, figsize, str_clip, ax, extent, title, stretch)\u001b[0m\n\u001b[0;32m    398\u001b[0m \u001b[1;33m\u001b[0m\u001b[0m\n\u001b[0;32m    399\u001b[0m     \u001b[1;31m# Index bands for plotting and clean up data for matplotlib\u001b[0m\u001b[1;33m\u001b[0m\u001b[1;33m\u001b[0m\u001b[1;33m\u001b[0m\u001b[0m\n\u001b[1;32m--> 400\u001b[1;33m     \u001b[0mrgb_bands\u001b[0m \u001b[1;33m=\u001b[0m \u001b[0marr\u001b[0m\u001b[1;33m[\u001b[0m\u001b[0mrgb\u001b[0m\u001b[1;33m,\u001b[0m \u001b[1;33m:\u001b[0m\u001b[1;33m,\u001b[0m \u001b[1;33m:\u001b[0m\u001b[1;33m]\u001b[0m\u001b[1;33m\u001b[0m\u001b[1;33m\u001b[0m\u001b[0m\n\u001b[0m\u001b[0;32m    401\u001b[0m \u001b[1;33m\u001b[0m\u001b[0m\n\u001b[0;32m    402\u001b[0m     \u001b[1;32mif\u001b[0m \u001b[0mstretch\u001b[0m\u001b[1;33m:\u001b[0m\u001b[1;33m\u001b[0m\u001b[1;33m\u001b[0m\u001b[0m\n",
      "\u001b[1;31mIndexError\u001b[0m: index 1 is out of bounds for axis 0 with size 1"
     ]
    },
    {
     "data": {
      "image/png": "[encoded data removed]",
      "text/plain": [
       "<Figure size 720x360 with 2 Axes>"
      ]
     },
     "metadata": {
      "needs_background": "light"
     },
     "output_type": "display_data"
    }
   ],
   "source": [
    "fig, (ax1, ax2)  = plt.subplots(1,2, figsize=(10,5))\n",
    "\n",
    "ep.plot_rgb(mosaic,\n",
    "            rgb=[0, 1, 2],\n",
    "            stretch=True,\n",
    "            ax=ax2,\n",
    "            title=\"Landsat8 Aerial, 2020-04-26\")\n",
    "\n",
    "\n",
    "ax2.set_axis_off()\n",
    "\n",
    "plt.show()"
   ]
  },
  {
   "cell_type": "code",
   "execution_count": null,
   "metadata": {},
   "outputs": [],
   "source": []
  },
  {
   "cell_type": "code",
   "execution_count": null,
   "metadata": {
    "ExecuteTime": {
     "end_time": "2020-05-04T14:33:58.395337Z",
     "start_time": "2020-05-04T14:33:51.888304Z"
    }
   },
   "outputs": [],
   "source": [
    "# Create output dir to hold cropped files\n",
    "landsat_crop_dir = os.path.join(\n",
    "    \"landsat\", \"LC08_L1TP_045031_20200426_20200426_01_RT\", \"cropped\")\n",
    "\n",
    "\n",
    "\n",
    "# Reproject aoi and siskiyou gdf into CRS of landsat scene\n",
    "with rio.open(rgb_paths[0]) as src:\n",
    "    aoi_reproj = aoi.to_crs(src.crs)\n",
    "    siskiyou_reproj = siskiyou.to_crs(src.crs)\n",
    "\n",
    "# Crop rasters in R, G, B list\n",
    "es.crop_all(raster_paths=rgb_paths,\n",
    "            output_dir=landsat_crop_dir,\n",
    "            geoms=aoi_reproj,\n",
    "            overwrite=True)\n",
    "\n",
    "# Fetch cropped bands\n",
    "landsat_cropped_bands = sorted(glob(os.path.join(landsat_crop_dir, \"*B?_crop.tif\")))\n",
    "\n",
    "# Stack bands\n",
    "landsat_stacked, landsat_stacked_meta = es.stack(landsat_cropped_bands, nodata=-9999)\n",
    "\n",
    "# Get plotting extent\n",
    "landsat_extent = plotting_extent(landsat_stacked[0], landsat_stacked_meta['transform'])"
   ]
  },
  {
   "cell_type": "code",
   "execution_count": null,
   "metadata": {
    "ExecuteTime": {
     "end_time": "2020-05-04T16:13:20.810098Z",
     "start_time": "2020-05-04T16:13:20.795141Z"
    }
   },
   "outputs": [],
   "source": [
    "def crop_stack_data(files_to_crop, crop_dir_path, crop_bound):\n",
    "    \"\"\"\n",
    "    Takes a list of image filepaths to crop and boundaries \n",
    "    of an area of interest and returns a cropped and stacked array\n",
    "    of bands from the original raster.\n",
    "\n",
    "    Parameters\n",
    "    ----------\n",
    "    files_to_crop: list of filepaths (strings)\n",
    "        List of filepaths to the image files to crop and stack.\n",
    "        List order determines order of stacked raster that is returned.\n",
    "\n",
    "    crop_dir_path: filepath (string)\n",
    "        Path to directory that will store cropped image files. If this directory\n",
    "        does not exist, this function will create it.\n",
    "\n",
    "    crop_bound: Geopandas geodataframe\n",
    "        Geodataframe with 1 item: clip boundaries. Function will attempt to\n",
    "        project this to the same CRS as the image files from files_to_crop.\n",
    "\n",
    "    Returns\n",
    "    -------\n",
    "    stacked_raster: stacked masked numpy array\n",
    "        Stacked, cropped and clipped numpy masked array\n",
    "\n",
    "    stacked_raster_meta: Rasterio profile \n",
    "        Dictionary-like object containing post-crop dtype, \n",
    "        nodata values, crs, etc. Used for reprojecting \n",
    "        and determining extents for plotting.\n",
    "\n",
    "    \"\"\"\n",
    "\n",
    "    # Create new directory to store files if it does not exist\n",
    "    if not os.path.exists(crop_dir_path):\n",
    "        print(\"Output folder does not exist, creating...\", end=\"\")\n",
    "        os.makedirs(crop_dir_path)\n",
    "        print(\" Done.\")\n",
    "\n",
    "    with rio.open(files_to_crop[0]) as src:\n",
    "        crop_bound_reproj = crop_bound.to_crs(src.crs)\n",
    "\n",
    "    # Crop all rasters in files_to_crop list\n",
    "    es.crop_all(raster_paths=files_to_crop,\n",
    "                output_dir=crop_dir_path,\n",
    "                geoms=crop_bound_reproj,\n",
    "                overwrite=True)\n",
    "\n",
    "    # Fetch the cropped rasters by their extension and sort them\n",
    "    all_bands = sorted(glob(os.path.join(crop_dir_path, \"*B[1-5]_crop.tif\")))\n",
    "\n",
    "    # Return a stacked raster\n",
    "    stacked_raster, stacked_raster_meta = es.stack(all_bands, nodata=-9999)\n",
    "    \n",
    "    return stacked_raster, stacked_raster_meta"
   ]
  }
 ],
 "metadata": {
  "kernelspec": {
   "display_name": "Python 3",
   "language": "python",
   "name": "python3"
  },
  "language_info": {
   "codemirror_mode": {
    "name": "ipython",
    "version": 3
   },
   "file_extension": ".py",
   "mimetype": "text/x-python",
   "name": "python",
   "nbconvert_exporter": "python",
   "pygments_lexer": "ipython3",
   "version": "3.7.6"
  },
  "varInspector": {
   "cols": {
    "lenName": 16,
    "lenType": 16,
    "lenVar": 40
   },
   "kernels_config": {
    "python": {
     "delete_cmd_postfix": "",
     "delete_cmd_prefix": "del ",
     "library": "var_list.py",
     "varRefreshCmd": "print(var_dic_list())"
    },
    "r": {
     "delete_cmd_postfix": ") ",
     "delete_cmd_prefix": "rm(",
     "library": "var_list.r",
     "varRefreshCmd": "cat(var_dic_list()) "
    }
   },
   "types_to_exclude": [
    "module",
    "function",
    "builtin_function_or_method",
    "instance",
    "_Feature"
   ],
   "window_display": false
  }
 },
 "nbformat": 4,
 "nbformat_minor": 4
}
