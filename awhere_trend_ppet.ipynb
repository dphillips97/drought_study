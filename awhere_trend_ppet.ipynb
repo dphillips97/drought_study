{
 "cells": [
  {
   "cell_type": "markdown",
   "metadata": {},
   "source": [
    "**Workflow: P/PET Average in April vs. in April 2020**\n",
    "\n",
    "- connect to aWhere's API\n",
    "- call ppet for April 2020 for test area (Yreka)\n",
    " - may have to make multiple requests\n",
    " - join data into 1 main dataframe\n",
    "- get ppet for April 2019 for same site\n",
    "- find difference in values and save to df\n",
    "- call ppet for each site in grid geodataframe"
   ]
  },
  {
   "cell_type": "code",
   "execution_count": 1,
   "metadata": {},
   "outputs": [],
   "source": [
    "import os\n",
    "\n",
    "import pandas as pd\n",
    "import matplotlib.pyplot as plt\n",
    "import matplotlib.ticker as plticker\n",
    "\n",
    "import geopandas as gpd\n",
    "import earthpy as et\n",
    "\n",
    "import requests as rq\n",
    "\n",
    "from header import AWhereAPI\n",
    "from secret_codes import *"
   ]
  },
  {
   "cell_type": "code",
   "execution_count": 2,
   "metadata": {},
   "outputs": [],
   "source": [
    "# Import codes from secret_codes.py\n",
    "api_key = API_KEY\n",
    "api_secret = API_SECRET"
   ]
  },
  {
   "cell_type": "code",
   "execution_count": 3,
   "metadata": {},
   "outputs": [],
   "source": [
    "# Create aWhere object\n",
    "aw = AWhereAPI(api_key, api_secret)\n",
    "\n",
    "# To get auth token, encode secret and key\n",
    "sc = aw.encode_secret_and_key(API_KEY, API_SECRET)\n",
    "\n",
    "# Then call auth token\n",
    "token = aw.get_oauth_token(sc)\n",
    "\n",
    "# Set up headers: auth and specific header for agronomics data\n",
    "auth_headers = {\"Authorization\": \"Bearer %s\" % token,\n",
    "                \"Content-Type\": 'application/json'}\n",
    "\n",
    "agro_header = {\"Authorization\":  \"Bearer %s\" % token}\n",
    "\n",
    "# General aWhere API endpoint \"prefix\"\n",
    "endpt = \"https://api.awhere.com\""
   ]
  },
  {
   "cell_type": "code",
   "execution_count": 4,
   "metadata": {},
   "outputs": [],
   "source": [
    "# Function to fetch agronomic norms json\n",
    "# given lat, long, start, end day (can include year)\n",
    "def agro_json(start_day, end_day, latitude, longitude, search_type):\n",
    "\n",
    "    hist_ag_url = f\"/v2/agronomics/locations/{latitude},{longitude}/agronomic{search_type}/{start_day},{end_day}\"\n",
    "    \n",
    "    ag_norms_period = rq.get((endpt + hist_ag_url), headers=agro_header).json()\n",
    "    \n",
    "    return ag_norms_period"
   ]
  },
  {
   "cell_type": "code",
   "execution_count": 5,
   "metadata": {},
   "outputs": [],
   "source": [
    "# Return average ppet for April\n",
    "\n",
    "# Set lat and long\n",
    "latitude = 41.726667\n",
    "longitude = -122.6375\n",
    "\n",
    "# Each JSON covers 10 days\n",
    "days_dict = {1: [\"04-01\", \"04-10\"],\n",
    "             2: [\"04-11\", \"04-20\"],\n",
    "            3: [\"04-21\", \"04-30\"]}\n",
    "\n",
    "# List to hold all returned JSONs (3 here)\n",
    "json_list = []\n",
    "\n",
    "# Loop thru keys and get JSONs for specified date ranges\n",
    "for key in days_dict.keys():\n",
    "    \n",
    "    # Extract first and last days in range from dict \n",
    "    start_day = days_dict[key][0]\n",
    "    end_day = days_dict[key][1]\n",
    "    \n",
    "    # Get json\n",
    "    period_json = agro_json(start_day, end_day, latitude, longitude, \"norms\")\n",
    "    \n",
    "    # Add json to list of JSONs\n",
    "    json_list.append(period_json)"
   ]
  },
  {
   "cell_type": "code",
   "execution_count": 6,
   "metadata": {},
   "outputs": [],
   "source": [
    "# Will be a list of lists, with each sublist holding a \"row\"\n",
    "master_list = []\n",
    "\n",
    "\n",
    "for period_json in json_list:\n",
    "\n",
    "    # For each day in all days in json\n",
    "    for day in range(0, len(period_json['dailyNorms'])):\n",
    "\n",
    "        # List to hold values from specific day\n",
    "        day_list = []\n",
    "        \n",
    "        # Add date\n",
    "        day_list.append(period_json['dailyNorms'][day].get('day'))\n",
    "\n",
    "        # Add average ppet\n",
    "        day_list.append(period_json['dailyNorms'][day].get('ppet').get('average'))\n",
    "\n",
    "        # Add ppet stddev\n",
    "        day_list.append(period_json['dailyNorms'][day].get('ppet').get(\"stdDev\"))\n",
    "        \n",
    "        # Add list to \"list of lists\"\n",
    "        master_list.append(day_list)\n",
    "\n",
    "# Convert master list to dataframe\n",
    "ppet_april_norms = pd.DataFrame(master_list, columns=['day', 'avg', 'std'])"
   ]
  },
  {
   "cell_type": "code",
   "execution_count": 7,
   "metadata": {},
   "outputs": [],
   "source": [
    "# Get April 2020 agronomic values\n",
    "\n",
    "# Location for Yreka, CA\n",
    "latitude = 41.726667\n",
    "longitude = -122.6375\n",
    "\n",
    "# Dates for April 2020\n",
    "dates_dict = {1: [\"2020-04-01\", \"2020-04-10\"],\n",
    "              2: [\"2020-04-11\", \"2020-04-20\"],\n",
    "              3: [\"2020-04-21\", \"2020-04-30\"]}\n",
    "\n",
    "# Holds all  returned JSONs \n",
    "json_list = []\n",
    "\n",
    "for key in days_dict.keys():\n",
    "\n",
    "    start_date = days_dict[key][0]\n",
    "    end_date = days_dict[key][1]\n",
    "\n",
    "    april_2020_json = agro_json(\n",
    "        start_date, end_date, latitude, longitude, \"values\")\n",
    "\n",
    "    json_list.append(april_2020_json)\n",
    "\n",
    "# Holds all rows for all JSONs\n",
    "master_list = []\n",
    "\n",
    "for period_json in json_list:\n",
    "\n",
    "    # For each day in all days in json\n",
    "    for day in range(0, len(period_json['dailyValues'])):\n",
    "\n",
    "        # List to hold values from specific day\n",
    "        day_list = []\n",
    "\n",
    "        day_list.append(period_json['dailyValues'][day].get('date'))\n",
    "\n",
    "        # Get average ppet\n",
    "        day_list.append(period_json['dailyValues'][day].get('ppet'))\n",
    "\n",
    "        master_list.append(day_list)\n",
    "        \n",
    "ppet_april_2020 = pd.DataFrame(master_list, columns=['day', 'ppet'])"
   ]
  },
  {
   "cell_type": "code",
   "execution_count": 8,
   "metadata": {},
   "outputs": [
    {
     "data": {
      "image/png": "[encoded data removed]",
      "text/plain": [
       "<Figure size 720x432 with 2 Axes>"
      ]
     },
     "metadata": {
      "needs_background": "light"
     },
     "output_type": "display_data"
    }
   ],
   "source": [
    "fig, (ax1, ax2) = plt.subplots(1,2, figsize=(10,6))\n",
    "\n",
    "# Set labels and title\n",
    "ax1.set(title=\"Average P/PET for April, 2010 - 2019\\n\" +\n",
    "       \"Yreka, Siskiyou County, California, USA\",\n",
    "       xlabel=\"Day\",\n",
    "       ylabel=\"P/PET (mm)\")\n",
    "\n",
    "# Create plot of average P/PET\n",
    "ax1.plot(ppet_april_norms.day, ppet_april_norms.avg, label=\"Average P/PET\", linewidth=0.5, color='dodgerblue')\n",
    "\n",
    "# Set ticker at regular intervals\n",
    "tic = plticker.MultipleLocator(base=9.0)\n",
    "ax1.xaxis.set_major_locator(tic)\n",
    "\n",
    "# Show legend\n",
    "ax1.legend()\n",
    "\n",
    "# Add source info\n",
    "ax1.text(0.55, 0.88, transform=ax1.transAxes, s=\"Source: aWhere, 2020\")\n",
    "\n",
    "\"\"\"Plot 2: This April\"\"\"\n",
    "# Set labels and title\n",
    "ax2.set(title=\"P/PET for April 2020\\n\" +\n",
    "       \"Yreka, Siskiyou County, California, USA\",\n",
    "       xlabel=\"Day\",\n",
    "       ylabel=\"P/PET (mm)\")\n",
    "\n",
    "# Create plot of average P/PE8\n",
    "ax2.plot(ppet_april_2020.day, ppet_april_2020.ppet, label=\"P/PET\", linewidth=1, color='goldenrod', linestyle='--')\n",
    "\n",
    "# Set ticker at regular intervals\n",
    "tic = plticker.MultipleLocator(base=9.0)\n",
    "ax2.xaxis.set_major_locator(tic)\n",
    "\n",
    "# Show legend\n",
    "ax2.legend()\n",
    "\n",
    "# Add source info\n",
    "ax2.text(0.55, 0.88, transform=ax2.transAxes, s=\"Source: aWhere, 2020\")\n",
    "\n",
    "# Set axes to be the same\n",
    "plt.ylim(0, 3)\n",
    "plt.gca().set_aspect(aspect='auto', adjustable='box')\n",
    "\n",
    "plt.show()"
   ]
  },
  {
   "cell_type": "markdown",
   "metadata": {},
   "source": [
    "**Grid code below**"
   ]
  },
  {
   "cell_type": "code",
   "execution_count": 10,
   "metadata": {},
   "outputs": [],
   "source": [
    "# Create path to grid geojson\n",
    "grid_path = os.path.join(et.io.HOME, \"Desktop\", \"drought\", \"data\", \"created\", \"aoi_polys.geojson\")\n",
    "\n",
    "# Read as gdf\n",
    "aoi_grid = gpd.read_file(grid_path)\n",
    "\n",
    "# Add centroid column \n",
    "aoi_grid['centroid'] = aoi_grid.geometry.apply(lambda poly: poly.centroid)\n",
    "\n",
    "# add ppet column with values of 0 \n",
    "aoi_grid = aoi_grid.assign(ppet = 0)"
   ]
  },
  {
   "cell_type": "code",
   "execution_count": 13,
   "metadata": {},
   "outputs": [],
   "source": [
    "aoi_grid = aoi_grid[:2]"
   ]
  },
  {
   "cell_type": "code",
   "execution_count": 16,
   "metadata": {},
   "outputs": [],
   "source": [
    "# Pass in month and year\n",
    "start_day = \"2020-04-01\"\n",
    "end_day = \"2020-04-30\"\n",
    "\n",
    "for index, row in aoi_grid.iterrows():\n",
    "    \n",
    "    # Get lat and long from grid\n",
    "    latitude = row.centroid.y\n",
    "    longitude = row.centroid.x\n",
    "    \n",
    "    # Get and parse json\n",
    "    hist_ag_url = f\"/v2/agronomics/locations/{latitude},{longitude}/agronomicvalues/{start_day},{end_day}\"\n",
    "    \n",
    "    # Endpoint suffix to get all accumulations\n",
    "    ppet_append = \"?properties=accumulations\"\n",
    "    \n",
    "    # Get JSON\n",
    "    ag_norms_period = rq.get((endpt + hist_ag_url + ppet_append), headers=agro_header).json()\n",
    "\n",
    "    # Add accumulated ppet for April 2020\n",
    "    aoi_grid.loc[index, 'ppet'] = ag_norms_period.get('accumulations').get('ppet')"
   ]
  },
  {
   "cell_type": "code",
   "execution_count": 17,
   "metadata": {},
   "outputs": [],
   "source": [
    "# Create path to area of interest for plotting\n",
    "aoi_path = os.path.join(et.io.HOME, \"desktop\", \"drought\", \"data\", \"created\", \"aoi.shp\")\n",
    "\n",
    "# Create path to county boundaries for plotting\n",
    "county_path = os.path.join(et.io.HOME, \"desktop\", \"drought\", \"data\", \"TIGER\", \"cb_2018_us_county_500k.shp\")\n",
    "\n",
    "# Load all CA counties\n",
    "counties = gpd.read_file(county_path)\n",
    "\n",
    "# Select Siskyou county\n",
    "siskiyou = counties[counties.NAME == 'Siskiyou']\n",
    "\n",
    "# Load AoI into gdf\n",
    "aoi = gpd.read_file(aoi_path)"
   ]
  },
  {
   "cell_type": "code",
   "execution_count": 20,
   "metadata": {},
   "outputs": [
    {
     "data": {
      "text/html": [
       "<div>\n",
       "<style scoped>\n",
       "    .dataframe tbody tr th:only-of-type {\n",
       "        vertical-align: middle;\n",
       "    }\n",
       "\n",
       "    .dataframe tbody tr th {\n",
       "        vertical-align: top;\n",
       "    }\n",
       "\n",
       "    .dataframe thead th {\n",
       "        text-align: right;\n",
       "    }\n",
       "</style>\n",
       "<table border=\"1\" class=\"dataframe\">\n",
       "  <thead>\n",
       "    <tr style=\"text-align: right;\">\n",
       "      <th></th>\n",
       "      <th>geometry</th>\n",
       "      <th>centroid</th>\n",
       "      <th>ppet</th>\n",
       "    </tr>\n",
       "  </thead>\n",
       "  <tbody>\n",
       "    <tr>\n",
       "      <th>0</th>\n",
       "      <td>POLYGON ((-123.85503 40.97764, -123.77503 40.9...</td>\n",
       "      <td>POINT (-123.81503 41.01764)</td>\n",
       "      <td>14.924904</td>\n",
       "    </tr>\n",
       "    <tr>\n",
       "      <th>1</th>\n",
       "      <td>POLYGON ((-123.85503 41.05764, -123.77503 41.0...</td>\n",
       "      <td>POINT (-123.81503 41.09764)</td>\n",
       "      <td>12.198133</td>\n",
       "    </tr>\n",
       "  </tbody>\n",
       "</table>\n",
       "</div>"
      ],
      "text/plain": [
       "                                            geometry  \\\n",
       "0  POLYGON ((-123.85503 40.97764, -123.77503 40.9...   \n",
       "1  POLYGON ((-123.85503 41.05764, -123.77503 41.0...   \n",
       "\n",
       "                      centroid       ppet  \n",
       "0  POINT (-123.81503 41.01764)  14.924904  \n",
       "1  POINT (-123.81503 41.09764)  12.198133  "
      ]
     },
     "execution_count": 20,
     "metadata": {},
     "output_type": "execute_result"
    }
   ],
   "source": [
    "aoi_grid"
   ]
  },
  {
   "cell_type": "code",
   "execution_count": 18,
   "metadata": {},
   "outputs": [
    {
     "data": {
      "image/png": "[encoded data removed]",
      "text/plain": [
       "<Figure size 432x288 with 2 Axes>"
      ]
     },
     "metadata": {
      "needs_background": "light"
     },
     "output_type": "display_data"
    }
   ],
   "source": [
    "fig, ax = plt.subplots()\n",
    "\n",
    "ax.set(title=\"Accumulated P/PET, April 2020\")\n",
    "\n",
    "aoi_grid.plot(column='ppet', ax=ax, cmap='coolwarm_r', legend=True,\n",
    "             legend_kwds={'label': \"P/PET (mm)\", 'orientation': \"horizontal\"})\n",
    "\n",
    "aoi.plot(ax=ax, color=\"none\", edgecolor=\"red\")\n",
    "\n",
    "siskiyou.plot(ax=ax, color=\"none\", edgecolor=\"orange\", linewidth=2.5)\n",
    "\n",
    "ax.set_axis_off()\n",
    "\n",
    "ax.text(0.1, 0.00001, transform=ax.transAxes, s=\"Source: aWhere, 2020\")\n",
    "\n",
    "plt.show()"
   ]
  },
  {
   "cell_type": "code",
   "execution_count": null,
   "metadata": {},
   "outputs": [],
   "source": []
  }
 ],
 "metadata": {
  "kernelspec": {
   "display_name": "Python 3",
   "language": "python",
   "name": "python3"
  },
  "language_info": {
   "codemirror_mode": {
    "name": "ipython",
    "version": 3
   },
   "file_extension": ".py",
   "mimetype": "text/x-python",
   "name": "python",
   "nbconvert_exporter": "python",
   "pygments_lexer": "ipython3",
   "version": "3.7.6"
  },
  "varInspector": {
   "cols": {
    "lenName": 16,
    "lenType": 16,
    "lenVar": 40
   },
   "kernels_config": {
    "python": {
     "delete_cmd_postfix": "",
     "delete_cmd_prefix": "del ",
     "library": "var_list.py",
     "varRefreshCmd": "print(var_dic_list())"
    },
    "r": {
     "delete_cmd_postfix": ") ",
     "delete_cmd_prefix": "rm(",
     "library": "var_list.r",
     "varRefreshCmd": "cat(var_dic_list()) "
    }
   },
   "types_to_exclude": [
    "module",
    "function",
    "builtin_function_or_method",
    "instance",
    "_Feature"
   ],
   "window_display": false
  }
 },
 "nbformat": 4,
 "nbformat_minor": 4
}
