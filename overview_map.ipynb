{
 "cells": [
  {
   "cell_type": "code",
   "execution_count": 103,
   "metadata": {},
   "outputs": [],
   "source": [
    "import os\n",
    "from glob import glob\n",
    "import warnings\n",
    "\n",
    "import numpy as np\n",
    "import matplotlib.pyplot as plt\n",
    "\n",
    "import geopandas as gpd\n",
    "import rasterio as rio\n",
    "from rasterio.plot import *\n",
    "\n",
    "import earthpy as et\n",
    "import earthpy.plot as ep\n",
    "import earthpy.spatial as es\n",
    "\n",
    "#from shapely.geometry import box\n",
    "warnings.simplefilter('ignore')"
   ]
  },
  {
   "cell_type": "code",
   "execution_count": 51,
   "metadata": {},
   "outputs": [],
   "source": [
    "# Set working directory\n",
    "working_dir = os.path.join(et.io.HOME, \"desktop\", \"drought\", \"data\")\n",
    "\n",
    "# Switch to working directory\n",
    "os.chdir(working_dir)\n",
    "\n",
    "# Path to state data\n",
    "state_path = os.path.join(\"TIGER\", \"cb_2018_us_state_500k.shp\")\n",
    "\n",
    "# Path to county data\n",
    "county_path = os.path.join(\"TIGER\", \"cb_2018_us_county_500k.shp\")\n",
    "\n",
    "# Path to cities data\n",
    "city_path = os.path.join(\"CA_dot_gov\", \"CA_Places_TIGER2016.shp\")\n",
    "\n",
    "# Path to roads data\n",
    "roads_path = os.path.join(\"TIGER\", \"tl_2019_06_prisecroads.shp\")\n",
    "\n",
    "# Path to area of interest\n",
    "aoi_path = os.path.join(\"created\", \"aoi.shp\")"
   ]
  },
  {
   "cell_type": "code",
   "execution_count": 3,
   "metadata": {},
   "outputs": [],
   "source": [
    "# Load state data into gdf\n",
    "states = gpd.read_file(state_path)\n",
    "\n",
    "# Select California area\n",
    "ca = states[states.STUSPS == 'CA']"
   ]
  },
  {
   "cell_type": "code",
   "execution_count": 4,
   "metadata": {},
   "outputs": [],
   "source": [
    "# Load county data into gdf\n",
    "counties = gpd.read_file(county_path)\n",
    "\n",
    "# Select Siskyou county\n",
    "siskiyou = counties[counties.NAME == 'Siskiyou']"
   ]
  },
  {
   "cell_type": "code",
   "execution_count": 106,
   "metadata": {},
   "outputs": [],
   "source": [
    "# Load cities\n",
    "cities = gpd.read_file(city_path)\n",
    "\n",
    "# Set to correct CRS\n",
    "cities = cities.to_crs('EPSG:4269')\n",
    "\n",
    "# Select relevant cities\n",
    "cities = cities[cities.NAME.isin(['Yreka', 'San Francisco', 'Los Angeles', 'San Diego'])]"
   ]
  },
  {
   "cell_type": "code",
   "execution_count": 6,
   "metadata": {},
   "outputs": [],
   "source": [
    "# Load major roads\n",
    "roads = gpd.read_file(roads_path)\n",
    "\n",
    "# Select only interstates\n",
    "hwys = roads[roads.FULLNAME.str.contains('I-')]"
   ]
  },
  {
   "cell_type": "code",
   "execution_count": 69,
   "metadata": {},
   "outputs": [],
   "source": [
    "# Create list of paths to landsat bands 1-9\n",
    "landsat_paths = sorted(glob(os.path.join(working_dir, \"landsat\",\n",
    "                                  \"LC08_L1TP_045031_20200426_20200426_01_RT\",\n",
    "                                  \"*B?.tif\")))\n",
    "# Set paths to R, G, B bands\n",
    "rgb_paths = [landsat_paths[3], landsat_paths[2], landsat_paths[1]]"
   ]
  },
  {
   "cell_type": "code",
   "execution_count": 99,
   "metadata": {},
   "outputs": [
    {
     "name": "stderr",
     "output_type": "stream",
     "text": [
      "C:\\Users\\dphil\\Miniconda3\\envs\\earth-analytics-python\\lib\\site-packages\\pyproj\\crs.py:77: FutureWarning: '+init=<authority>:<code>' syntax is deprecated. '<authority>:<code>' is the preferred initialization method.\n",
      "  return _prepare_from_string(\" \".join(pjargs))\n",
      "C:\\Users\\dphil\\Miniconda3\\envs\\earth-analytics-python\\lib\\site-packages\\pyproj\\crs.py:77: FutureWarning: '+init=<authority>:<code>' syntax is deprecated. '<authority>:<code>' is the preferred initialization method.\n",
      "  return _prepare_from_string(\" \".join(pjargs))\n"
     ]
    }
   ],
   "source": [
    "# Create output dir to hold cropped files\n",
    "landsat_crop_dir = os.path.join(\n",
    "    \"landsat\", \"LC08_L1TP_045031_20200426_20200426_01_RT\", \"cropped\")\n",
    "\n",
    "# Load area of interest shapefile into gdf\n",
    "aoi = gpd.read_file(aoi_path)\n",
    "\n",
    "# Reproject aoi and siskiyou gdf into CRS of landsat scene\n",
    "with rio.open(rgb_paths[0]) as src:\n",
    "    aoi_reproj = aoi.to_crs(src.crs)\n",
    "    siskiyou_reproj = siskiyou.to_crs(src.crs)\n",
    "\n",
    "# Crop rasters in R, G, B list\n",
    "es.crop_all(raster_paths=rgb_paths,\n",
    "            output_dir=landsat_crop_dir,\n",
    "            geoms=aoi_reproj,\n",
    "            overwrite=True)\n",
    "\n",
    "# Fetch cropped bands\n",
    "landsat_cropped_bands = sorted(glob(os.path.join(landsat_crop_dir, \"*B?_crop.tif\")))\n",
    "\n",
    "# Stack bands\n",
    "landsat_stacked, landsat_stacked_meta = es.stack(landsat_cropped_bands, nodata=-9999)\n",
    "\n",
    "# Get plotting extent\n",
    "landsat_extent = plotting_extent(landsat_stacked[0], landsat_stacked_meta['transform'])"
   ]
  },
  {
   "cell_type": "code",
   "execution_count": 1,
   "metadata": {
    "scrolled": true
   },
   "outputs": [
    {
     "ename": "NameError",
     "evalue": "name 'plt' is not defined",
     "output_type": "error",
     "traceback": [
      "\u001b[1;31m---------------------------------------------------------------------------\u001b[0m",
      "\u001b[1;31mNameError\u001b[0m                                 Traceback (most recent call last)",
      "\u001b[1;32m<ipython-input-1-b8c9b150951d>\u001b[0m in \u001b[0;36m<module>\u001b[1;34m\u001b[0m\n\u001b[1;32m----> 1\u001b[1;33m \u001b[0mfig\u001b[0m\u001b[1;33m,\u001b[0m \u001b[1;33m(\u001b[0m\u001b[0max1\u001b[0m\u001b[1;33m,\u001b[0m \u001b[0max2\u001b[0m\u001b[1;33m)\u001b[0m  \u001b[1;33m=\u001b[0m \u001b[0mplt\u001b[0m\u001b[1;33m.\u001b[0m\u001b[0msubplots\u001b[0m\u001b[1;33m(\u001b[0m\u001b[1;36m1\u001b[0m\u001b[1;33m,\u001b[0m\u001b[1;36m2\u001b[0m\u001b[1;33m,\u001b[0m \u001b[0mfigsize\u001b[0m\u001b[1;33m=\u001b[0m\u001b[1;33m(\u001b[0m\u001b[1;36m10\u001b[0m\u001b[1;33m,\u001b[0m\u001b[1;36m5\u001b[0m\u001b[1;33m)\u001b[0m\u001b[1;33m)\u001b[0m\u001b[1;33m\u001b[0m\u001b[1;33m\u001b[0m\u001b[0m\n\u001b[0m\u001b[0;32m      2\u001b[0m \u001b[1;33m\u001b[0m\u001b[0m\n\u001b[0;32m      3\u001b[0m \u001b[1;34m\"\"\"Plot 1\"\"\"\u001b[0m\u001b[1;33m\u001b[0m\u001b[1;33m\u001b[0m\u001b[0m\n\u001b[0;32m      4\u001b[0m \u001b[1;31m# Set title\u001b[0m\u001b[1;33m\u001b[0m\u001b[1;33m\u001b[0m\u001b[1;33m\u001b[0m\u001b[0m\n\u001b[0;32m      5\u001b[0m \u001b[0max1\u001b[0m\u001b[1;33m.\u001b[0m\u001b[0mset\u001b[0m\u001b[1;33m(\u001b[0m\u001b[0mtitle\u001b[0m\u001b[1;33m=\u001b[0m\u001b[1;34m\"Siskiyou County, California, USA\"\u001b[0m\u001b[1;33m)\u001b[0m\u001b[1;33m\u001b[0m\u001b[1;33m\u001b[0m\u001b[0m\n",
      "\u001b[1;31mNameError\u001b[0m: name 'plt' is not defined"
     ]
    }
   ],
   "source": [
    "fig, (ax1, ax2)  = plt.subplots(1,2, figsize=(10,5))\n",
    "\n",
    "\"\"\"Plot 1\"\"\"\n",
    "# Set title\n",
    "ax1.set(title=\"Siskiyou County, California, USA\")\n",
    "\n",
    "#cities.plot(ax=ax1, color='blue', zorder=3, label=\"City\")\n",
    "\n",
    "# Plot CA state boundaries\n",
    "ca.plot(ax=ax1, color='tan', edgecolor='black', linewidth = 0.5, label=\"California\", alpha=0.5)\n",
    "\n",
    "# Plot county boundaries\n",
    "siskiyou.plot(ax=ax1, color='green', edgecolor=\"black\", alpha=0.9, label=\"Siskiyou County\")\n",
    "\n",
    "hwys.plot(ax=ax1, color='black', linewidth=0.3)\n",
    "\n",
    "aoi.plot(ax=ax1, color=\"None\", edgecolor=\"red\")\n",
    "\n",
    "# Turn off axis\n",
    "ax1.set_axis_off()\n",
    "\n",
    "\"\"\"Plot 2\"\"\"\n",
    "ep.plot_rgb(landsat_stacked,\n",
    "            rgb=[0, 1, 2],\n",
    "            stretch=True,\n",
    "            ax=ax2,\n",
    "            title=\"Landsat8 Aerial, 2020-04-26\",\n",
    "           extent=landsat_extent)\n",
    "\n",
    "siskiyou_reproj.plot(ax=ax2, color='green', \n",
    "                     edgecolor=\"black\", alpha=0.3, \n",
    "                     label=\"Siskiyou County\")\n",
    "\n",
    "#aoi_reproj.plot(ax=ax2, color='None', edgecolor=\"red\")\n",
    "\n",
    "ax2.set_axis_off()\n",
    "\n",
    "plt.show()"
   ]
  },
  {
   "cell_type": "code",
   "execution_count": null,
   "metadata": {},
   "outputs": [],
   "source": []
  }
 ],
 "metadata": {
  "kernelspec": {
   "display_name": "Python 3",
   "language": "python",
   "name": "python3"
  },
  "language_info": {
   "codemirror_mode": {
    "name": "ipython",
    "version": 3
   },
   "file_extension": ".py",
   "mimetype": "text/x-python",
   "name": "python",
   "nbconvert_exporter": "python",
   "pygments_lexer": "ipython3",
   "version": "3.7.6"
  },
  "varInspector": {
   "cols": {
    "lenName": 16,
    "lenType": 16,
    "lenVar": 40
   },
   "kernels_config": {
    "python": {
     "delete_cmd_postfix": "",
     "delete_cmd_prefix": "del ",
     "library": "var_list.py",
     "varRefreshCmd": "print(var_dic_list())"
    },
    "r": {
     "delete_cmd_postfix": ") ",
     "delete_cmd_prefix": "rm(",
     "library": "var_list.r",
     "varRefreshCmd": "cat(var_dic_list()) "
    }
   },
   "types_to_exclude": [
    "module",
    "function",
    "builtin_function_or_method",
    "instance",
    "_Feature"
   ],
   "window_display": false
  }
 },
 "nbformat": 4,
 "nbformat_minor": 4
}
