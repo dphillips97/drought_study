{
 "cells": [
  {
   "cell_type": "markdown",
   "metadata": {},
   "source": [
    "**Workflow: P/PET Average in April vs. in April 2020**\n",
    "\n",
    "- connect to aWhere's API\n",
    "- call ppet for April 2020 for test area (Yreka)\n",
    " - may have to make multiple requests\n",
    " - join data into 1 main dataframe\n",
    "- get ppet for April 2019 for same site\n",
    "- find difference in values and save to df\n",
    "- call ppet for each site in grid geodataframe"
   ]
  },
  {
   "cell_type": "code",
   "execution_count": 1,
   "metadata": {
    "ExecuteTime": {
     "end_time": "2020-05-05T02:21:24.617000Z",
     "start_time": "2020-05-05T02:21:22.867353Z"
    }
   },
   "outputs": [],
   "source": [
    "import os\n",
    "\n",
    "import pandas as pd\n",
    "import matplotlib.pyplot as plt\n",
    "import matplotlib.ticker as plticker\n",
    "\n",
    "import geopandas as gpd\n",
    "import earthpy as et\n",
    "\n",
    "import requests as rq\n",
    "\n",
    "from header import AWhereAPI\n",
    "from secret_codes import *"
   ]
  },
  {
   "cell_type": "code",
   "execution_count": 2,
   "metadata": {
    "ExecuteTime": {
     "end_time": "2020-05-05T02:21:25.241797Z",
     "start_time": "2020-05-05T02:21:25.226170Z"
    }
   },
   "outputs": [],
   "source": [
    "# Import codes from secret_codes.py\n",
    "api_key = API_KEY\n",
    "api_secret = API_SECRET"
   ]
  },
  {
   "cell_type": "code",
   "execution_count": 3,
   "metadata": {
    "ExecuteTime": {
     "end_time": "2020-05-05T02:21:33.224413Z",
     "start_time": "2020-05-05T02:21:32.505735Z"
    }
   },
   "outputs": [],
   "source": [
    "# Create aWhere object\n",
    "aw = AWhereAPI(api_key, api_secret)\n",
    "\n",
    "# To get auth token, encode secret and key\n",
    "sc = aw.encode_secret_and_key(API_KEY, API_SECRET)\n",
    "\n",
    "# Then call auth token\n",
    "token = aw.get_oauth_token(sc)\n",
    "\n",
    "# Set up headers: auth and specific header for agronomics data\n",
    "auth_headers = {\"Authorization\": \"Bearer %s\" % token,\n",
    "                \"Content-Type\": 'application/json'}\n",
    "\n",
    "agro_header = {\"Authorization\":  \"Bearer %s\" % token}\n",
    "\n",
    "# General aWhere API endpoint \"prefix\"\n",
    "endpt = \"https://api.awhere.com\""
   ]
  },
  {
   "cell_type": "code",
   "execution_count": 6,
   "metadata": {
    "ExecuteTime": {
     "end_time": "2020-05-05T02:28:06.692544Z",
     "start_time": "2020-05-05T02:28:06.676921Z"
    }
   },
   "outputs": [],
   "source": [
    "# Function to fetch agronomic norms json\n",
    "# given lat, long, start, end day (\"day\" can include year)\n",
    "\n",
    "def agro_json(start_day, end_day, latitude, longitude, search_type, properties=None):\n",
    "    \"\"\"\n",
    "    Reads in temporal and spatial info and returns JSON-like object. Additional param\n",
    "    allows user to enter specific search parameters.\n",
    "\n",
    "    Parameters\n",
    "    ----------\n",
    "    start_day, end_day: string\n",
    "        Formatted as MM-DD for historical averages\n",
    "        or YYYY-MM-DD for specific date range\n",
    "\n",
    "    longitude, latitude: string, int, or float\n",
    "        Decimal degrees location of centroid of\n",
    "        9 sq km grid to get agronomic info for\n",
    "\n",
    "    search_type: string\n",
    "        Accepts \"norms\" for historical norms\n",
    "        or \"values\" for specific date range\n",
    "\n",
    "    properties: string (optional)\n",
    "        User-defined string with optional additional \n",
    "        search parameters\n",
    "\n",
    "    Returns\n",
    "    -------\n",
    "    ag_json: JSON-like object\n",
    "        Contains response from aWhere's agronomics\n",
    "        API.\n",
    "    \"\"\"\n",
    "\n",
    "    if properties:\n",
    "\n",
    "        hist_ag_url = f\"/v2/agronomics/locations/{latitude},{longitude}/agronomic{search_type}/{start_day},{end_day}{properties}\"\n",
    "\n",
    "    else:\n",
    "\n",
    "        hist_ag_url = f\"/v2/agronomics/locations/{latitude},{longitude}/agronomic{search_type}/{start_day},{end_day}\"\n",
    "\n",
    "    # Get JSON from API\n",
    "    ag_json = rq.get((endpt + hist_ag_url), headers=agro_header).json()\n",
    "\n",
    "    return ag_json"
   ]
  },
  {
   "cell_type": "code",
   "execution_count": 7,
   "metadata": {
    "ExecuteTime": {
     "end_time": "2020-05-05T02:28:43.840525Z",
     "start_time": "2020-05-05T02:28:41.747146Z"
    }
   },
   "outputs": [],
   "source": [
    "# Return average P/PET for April based on historic norms\n",
    "\n",
    "# Set lat and long of Yreka, CA\n",
    "latitude = 41.726667\n",
    "longitude = -122.6375\n",
    "\n",
    "# List to hold all returned JSONs (3 in total)\n",
    "json_list = []\n",
    "\n",
    "# Set start and end day\n",
    "start_day = \"04-01\"\n",
    "end_day = \"04-30\"\n",
    "\n",
    "# specify pages, 10 results per page:\n",
    "pages = 3\n",
    "\n",
    "for page in range(0, pages):\n",
    "    \n",
    "    # Find offset for later JSONs\n",
    "    offset = page * 10\n",
    "    \n",
    "    if offset > 0:\n",
    "\n",
    "        # Get json\n",
    "        period_json = agro_json(start_day, end_day, latitude, longitude, \"norms\",\n",
    "                                f\"?limit=10&offset={offset}\")\n",
    "    else:\n",
    "        period_json = agro_json(start_day, end_day, latitude, longitude, \"norms\")\n",
    "\n",
    "    # Add json to list of JSONs\n",
    "    json_list.append(period_json)"
   ]
  },
  {
   "cell_type": "code",
   "execution_count": 8,
   "metadata": {
    "ExecuteTime": {
     "end_time": "2020-05-05T02:29:07.195718Z",
     "start_time": "2020-05-05T02:29:07.180100Z"
    }
   },
   "outputs": [],
   "source": [
    "# A list of lists, with each sublist holding a \"row\"\n",
    "# to add to the eventual df\n",
    "\n",
    "master_list = []\n",
    "\n",
    "for period_json in json_list:\n",
    "\n",
    "    # For each day in all days in json\n",
    "    for day in range(0, len(period_json['dailyNorms'])):\n",
    "\n",
    "        # List to hold values from specific day\n",
    "        day_list = []\n",
    "\n",
    "        # Add date\n",
    "        day_list.append(period_json['dailyNorms'][day].get('day'))\n",
    "\n",
    "        # Add average ppet\n",
    "        day_list.append(period_json['dailyNorms']\n",
    "                        [day].get('ppet').get('average'))\n",
    "\n",
    "        # Add ppet stddev\n",
    "        day_list.append(period_json['dailyNorms']\n",
    "                        [day].get('ppet').get(\"stdDev\"))\n",
    "\n",
    "        # Add accumulated ppet average\n",
    "        day_list.append(period_json['dailyNorms'][day].get(\n",
    "            'accumulatedPpet').get('average'))\n",
    "\n",
    "        # Add accumulated ppet stddev\n",
    "        day_list.append(period_json['dailyNorms'][day].get(\n",
    "            'accumulatedPpet').get('stdDev'))\n",
    "\n",
    "        # Add list to \"list of lists\"\n",
    "        master_list.append(day_list)\n",
    "\n",
    "# Convert master list to dataframe\n",
    "ppet_april_norms = pd.DataFrame(master_list, columns=['day', 'ppet_avg', 'ppet_std',\n",
    "                                                      'accumulated_ppet_avg', 'accumulated_ppet_std'])"
   ]
  },
  {
   "cell_type": "code",
   "execution_count": 9,
   "metadata": {
    "ExecuteTime": {
     "end_time": "2020-05-05T02:29:17.412164Z",
     "start_time": "2020-05-05T02:29:15.209488Z"
    }
   },
   "outputs": [],
   "source": [
    "# Get April 2020 agronomic values\n",
    "\n",
    "# Location for Yreka, CA\n",
    "latitude = 41.726667\n",
    "longitude = -122.6375\n",
    "\n",
    "start_day = \"2020-04-01\"\n",
    "end_day = \"2020-04-30\"\n",
    "\n",
    "# specify pages, 10 results per page:\n",
    "pages = 3\n",
    "\n",
    "# Holds all  returned JSONs \n",
    "json_list = []\n",
    "\n",
    "for page in range(0, pages+1):\n",
    "\n",
    "    offset = (page * 10)\n",
    "\n",
    "    # Get json\n",
    "    period_json = agro_json(start_day, end_day, latitude, longitude, \"values\",\n",
    "                                f\"?limit=10&offset={offset}\")\n",
    "\n",
    "    # Add json to list of JSONs\n",
    "    json_list.append(period_json)"
   ]
  },
  {
   "cell_type": "code",
   "execution_count": 10,
   "metadata": {
    "ExecuteTime": {
     "end_time": "2020-05-05T02:29:28.565677Z",
     "start_time": "2020-05-05T02:29:28.534562Z"
    }
   },
   "outputs": [],
   "source": [
    "# Holds all rows for all JSONs\n",
    "master_list = []\n",
    "\n",
    "for period_json in json_list:\n",
    "\n",
    "    # For each day in all days in json\n",
    "    for day in range(0, len(period_json['dailyValues'])):\n",
    "\n",
    "        # List to hold values from specific day\n",
    "        day_list = []\n",
    "\n",
    "        day_list.append(period_json['dailyValues'][day].get('date'))\n",
    "\n",
    "        # Get daily ppet\n",
    "        day_list.append(period_json['dailyValues'][day].get('ppet'))\n",
    "        \n",
    "        # Get accumulated ppet\n",
    "        day_list.append(period_json['dailyValues'][day].get('accumulatedPpet'))\n",
    "\n",
    "        master_list.append(day_list)\n",
    "        \n",
    "ppet_april_2020 = pd.DataFrame(master_list, columns=['day', 'daily_ppet', 'accumulated_ppet'])"
   ]
  },
  {
   "cell_type": "code",
   "execution_count": 15,
   "metadata": {
    "ExecuteTime": {
     "end_time": "2020-05-05T03:07:55.054613Z",
     "start_time": "2020-05-05T03:07:54.492246Z"
    }
   },
   "outputs": [
    {
     "data": {
      "image/png": "[encoded data removed]",
      "text/plain": [
       "<Figure size 720x432 with 2 Axes>"
      ]
     },
     "metadata": {
      "needs_background": "light"
     },
     "output_type": "display_data"
    }
   ],
   "source": [
    "fig, (ax1, ax2) = plt.subplots(1,2, figsize=(10,6))\n",
    "\n",
    "# Set labels and title\n",
    "ax1.set(title=\"Average Daily P/PET for April, 2010 - 2019\\n\" +\n",
    "       \"Yreka, Siskiyou County, California, USA\",\n",
    "       xlabel=\"Day\",\n",
    "       ylabel=\"P/PET (mm)\")\n",
    "\n",
    "# Create plot of average P/PET\n",
    "ax1.plot(ppet_april_norms.day, ppet_april_norms.ppet_avg, \n",
    "         label=\"Daily Average P/PET, April (mm)\", linewidth=0.5, color='dodgerblue')\n",
    "\n",
    "# Set ticker at regular intervals\n",
    "tic = plticker.MultipleLocator(base=9.0)\n",
    "ax1.xaxis.set_major_locator(tic)\n",
    "\n",
    "# Plots have same scale\n",
    "ax1.set_ylim((0,3.5))\n",
    "\n",
    "# Add source info\n",
    "ax1.text(0.55, 0.95, transform=ax1.transAxes, s=\"Source: aWhere, 2020\")\n",
    "\n",
    "\"\"\"Plot 2: This April\"\"\"\n",
    "# Set labels and title\n",
    "ax2.set(title=\"Daily P/PET for April 2020\\n\" +\n",
    "       \"Yreka, Siskiyou County, California, USA\",\n",
    "       xlabel=\"Day\",\n",
    "       ylabel=\"P/PET (mm)\")\n",
    "\n",
    "# Create plot of average P/PET\n",
    "ax2.plot(ppet_april_2020.day, ppet_april_2020.daily_ppet, label=\"P/PET\", \n",
    "         linewidth=1, color='goldenrod', linestyle='--')\n",
    "\n",
    "# Set ticker at regular intervals\n",
    "tic = plticker.MultipleLocator(base=9.0)\n",
    "ax2.xaxis.set_major_locator(tic)\n",
    "\n",
    "# Plots have same scale\n",
    "ax2.set_ylim((0,3.5))\n",
    "\n",
    "# Add source info\n",
    "ax2.text(0.55, 0.95, transform=ax2.transAxes, s=\"Source: aWhere, 2020\")\n",
    "\n",
    "# Create export path\n",
    "fig_3_path = os.path.join(et.io.HOME, \"desktop\", \"drought\", \"data\", \"images\", \"fig_3.png\")\n",
    "\n",
    "# Save figure\n",
    "plt.savefig(fig_3_path, bbox_inches=\"tight\")\n",
    "\n",
    "plt.show()"
   ]
  },
  {
   "cell_type": "code",
   "execution_count": 16,
   "metadata": {
    "ExecuteTime": {
     "end_time": "2020-05-05T03:08:23.669566Z",
     "start_time": "2020-05-05T03:08:23.107341Z"
    }
   },
   "outputs": [
    {
     "data": {
      "image/png": "[encoded data removed]",
      "text/plain": [
       "<Figure size 720x432 with 2 Axes>"
      ]
     },
     "metadata": {
      "needs_background": "light"
     },
     "output_type": "display_data"
    }
   ],
   "source": [
    "fig, (ax1, ax2) = plt.subplots(1, 2, figsize=(10, 6))\n",
    "\n",
    "fig.suptitle(\"Accumulated P/PET, Yreka, Siskiyou County, California, USA\")\n",
    "\n",
    "\n",
    "\"\"\"Plot 1: Historic Values (April)\"\"\"\n",
    "\n",
    "# Set labels and title\n",
    "ax1.set(title=\"Average Accumulated P/PET, April 2010 - 2019\\n\",\n",
    "        xlabel=\"Day\",\n",
    "        ylabel=\"P/PET (mm)\")\n",
    "\n",
    "# Create plot of average accumulated ppet\n",
    "ax1.plot(ppet_april_norms.day, ppet_april_norms.accumulated_ppet_avg,\n",
    "         label=\"Average accumulated P/PET (mm)\", linewidth=0.5, color='dodgerblue')\n",
    "\n",
    "# Set ticker at regular intervals\n",
    "tic = plticker.MultipleLocator(base=9.0)\n",
    "ax1.xaxis.set_major_locator(tic)\n",
    "\n",
    "# Set plots to be same size\n",
    "ax1.set_xlim((0, 22.5))\n",
    "\n",
    "# Add source info\n",
    "ax1.text(0.5, 0.05, transform=ax1.transAxes, s=\"Source: aWhere, 2020\")\n",
    "\n",
    "\"\"\"Plot 2: This April\"\"\"\n",
    "# Set labels and title\n",
    "ax2.set(title=\"Accumulated P/PET, April 2020\\n\",\n",
    "        xlabel=\"Day\",\n",
    "        ylabel=\"P/PET (mm)\")\n",
    "\n",
    "# Create plot of accumulated P/PET\n",
    "ax2.plot(ppet_april_2020.day, ppet_april_2020.accumulated_ppet,\n",
    "         label=\"Accumulated P/PET (mm)\", linewidth=1, color='goldenrod', linestyle='--')\n",
    "\n",
    "# Set ticker at regular intervals\n",
    "tic = plticker.MultipleLocator(base=9.0)\n",
    "ax2.xaxis.set_major_locator(tic)\n",
    "\n",
    "# Scale same as plot 1\n",
    "ax2.set_ylim((0, 22.5))\n",
    "\n",
    "# Add source info\n",
    "ax2.text(0.5, 0.05, transform=ax2.transAxes, s=\"Source: aWhere, 2020\")\n",
    "\n",
    "# Create export path\n",
    "fig_4_path = os.path.join(et.io.HOME, \"desktop\", \"drought\", \"data\", \"images\", \"fig_4.png\")\n",
    "\n",
    "# Save figure\n",
    "plt.savefig(fig_4_path, bbox_inches=\"tight\")\n",
    "\n",
    "plt.show()"
   ]
  },
  {
   "cell_type": "code",
   "execution_count": null,
   "metadata": {},
   "outputs": [],
   "source": [
    " "
   ]
  }
 ],
 "metadata": {
  "kernelspec": {
   "display_name": "Python 3",
   "language": "python",
   "name": "python3"
  },
  "language_info": {
   "codemirror_mode": {
    "name": "ipython",
    "version": 3
   },
   "file_extension": ".py",
   "mimetype": "text/x-python",
   "name": "python",
   "nbconvert_exporter": "python",
   "pygments_lexer": "ipython3",
   "version": "3.7.6"
  },
  "varInspector": {
   "cols": {
    "lenName": 16,
    "lenType": 16,
    "lenVar": 40
   },
   "kernels_config": {
    "python": {
     "delete_cmd_postfix": "",
     "delete_cmd_prefix": "del ",
     "library": "var_list.py",
     "varRefreshCmd": "print(var_dic_list())"
    },
    "r": {
     "delete_cmd_postfix": ") ",
     "delete_cmd_prefix": "rm(",
     "library": "var_list.r",
     "varRefreshCmd": "cat(var_dic_list()) "
    }
   },
   "types_to_exclude": [
    "module",
    "function",
    "builtin_function_or_method",
    "instance",
    "_Feature"
   ],
   "window_display": false
  }
 },
 "nbformat": 4,
 "nbformat_minor": 4
}
