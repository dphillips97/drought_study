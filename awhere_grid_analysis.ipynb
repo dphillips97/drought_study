{
 "cells": [
  {
   "cell_type": "code",
   "execution_count": 1,
   "metadata": {
    "ExecuteTime": {
     "end_time": "2020-05-04T22:02:07.537298Z",
     "start_time": "2020-05-04T22:02:05.787818Z"
    }
   },
   "outputs": [],
   "source": [
    "import os\n",
    "\n",
    "import pandas as pd\n",
    "import matplotlib.pyplot as plt\n",
    "import matplotlib.ticker as plticker\n",
    "\n",
    "import geopandas as gpd\n",
    "import earthpy as et\n",
    "\n",
    "import requests as rq\n",
    "\n",
    "from header import AWhereAPI\n",
    "from secret_codes import *"
   ]
  },
  {
   "cell_type": "code",
   "execution_count": 2,
   "metadata": {
    "ExecuteTime": {
     "end_time": "2020-05-04T22:02:08.365195Z",
     "start_time": "2020-05-04T22:02:08.349586Z"
    }
   },
   "outputs": [],
   "source": [
    "# Import codes from secret_codes.py\n",
    "api_key = API_KEY\n",
    "api_secret = API_SECRET"
   ]
  },
  {
   "cell_type": "code",
   "execution_count": 3,
   "metadata": {
    "ExecuteTime": {
     "end_time": "2020-05-04T22:02:11.208272Z",
     "start_time": "2020-05-04T22:02:10.458452Z"
    }
   },
   "outputs": [],
   "source": [
    "# Create aWhere object\n",
    "aw = AWhereAPI(api_key, api_secret)\n",
    "\n",
    "# To get auth token, encode secret and key\n",
    "sc = aw.encode_secret_and_key(API_KEY, API_SECRET)\n",
    "\n",
    "# Then call auth token\n",
    "token = aw.get_oauth_token(sc)\n",
    "\n",
    "# Set up headers: auth and specific header for agronomics data\n",
    "auth_headers = {\"Authorization\": \"Bearer %s\" % token,\n",
    "                \"Content-Type\": 'application/json'}\n",
    "\n",
    "agro_header = {\"Authorization\":  \"Bearer %s\" % token}\n",
    "\n",
    "# General aWhere API endpoint \"prefix\"\n",
    "endpt = \"https://api.awhere.com\""
   ]
  },
  {
   "cell_type": "code",
   "execution_count": 4,
   "metadata": {
    "ExecuteTime": {
     "end_time": "2020-05-04T22:02:12.567400Z",
     "start_time": "2020-05-04T22:02:12.442492Z"
    }
   },
   "outputs": [],
   "source": [
    "# Create path to grid geojson\n",
    "grid_path = os.path.join(et.io.HOME, \"Desktop\", \"drought\", \"data\", \"created\", \"aoi_polys.geojson\")\n",
    "\n",
    "# Read as gdf\n",
    "aoi_grid = gpd.read_file(grid_path)\n",
    "\n",
    "# Add centroid column \n",
    "aoi_grid['centroid'] = aoi_grid.geometry.apply(lambda poly: poly.centroid)\n",
    "\n",
    "# add ppet column with values of 0 \n",
    "aoi_grid = aoi_grid.assign(ppet = 0)"
   ]
  },
  {
   "cell_type": "code",
   "execution_count": 5,
   "metadata": {
    "ExecuteTime": {
     "end_time": "2020-05-04T22:06:28.658606Z",
     "start_time": "2020-05-04T22:02:13.832653Z"
    }
   },
   "outputs": [],
   "source": [
    "# Pass in month and year\n",
    "start_day = \"2020-04-01\"\n",
    "end_day = \"2020-04-30\"\n",
    "\n",
    "for index, row in aoi_grid.iterrows():\n",
    "    \n",
    "    # Get lat and long from grid\n",
    "    latitude = row.centroid.y\n",
    "    longitude = row.centroid.x\n",
    "    \n",
    "    # Get and parse json\n",
    "    hist_ag_url = f\"/v2/agronomics/locations/{latitude},{longitude}/agronomicvalues/{start_day},{end_day}\"\n",
    "    \n",
    "    # Endpoint suffix to get all accumulations\n",
    "    ppet_append = \"?properties=accumulations\"\n",
    "    \n",
    "    # Get JSON\n",
    "    ag_norms_period = rq.get((endpt + hist_ag_url + ppet_append), headers=agro_header).json()\n",
    "\n",
    "    # Add accumulated ppet for April 2020\n",
    "    aoi_grid.loc[index, 'ppet'] = ag_norms_period.get('accumulations').get('ppet')"
   ]
  },
  {
   "cell_type": "code",
   "execution_count": 14,
   "metadata": {
    "ExecuteTime": {
     "end_time": "2020-05-04T22:24:08.044655Z",
     "start_time": "2020-05-04T22:24:07.638435Z"
    }
   },
   "outputs": [],
   "source": [
    "# Better to save data as geojson. Does not support multiple\n",
    "# geometry columns so we'll remove 'centroid'. Only need to\n",
    "# run this cell if we haven't called the API in the above cell\n",
    "#aoi_grid_export = aoi_grid.copy()\n",
    "\n",
    "#aoi_grid_export.drop(columns=['centroid'], inplace=True)\n",
    "\n",
    "# Create path to save aoi geojson\n",
    "created_data_path = os.path.join(et.io.HOME, \"desktop\", \n",
    "                                 \"drought\", \"data\", \"created\")\n",
    "# Go to path\n",
    "os.chdir(created_data_path)\n",
    "\n",
    "# Save aoi_grid as geojson if necessary\n",
    "#aoi_grid_export.to_file(\"aoi_ppet_april_2020.geojson\", driver='GeoJSON')\n",
    "\n",
    "# Load AoI grid from geojson\n",
    "#aoi_grid = gpd.read_file(aoi_grid_geojson_path)"
   ]
  },
  {
   "cell_type": "code",
   "execution_count": 16,
   "metadata": {
    "ExecuteTime": {
     "end_time": "2020-05-04T22:24:21.081310Z",
     "start_time": "2020-05-04T22:24:19.925268Z"
    }
   },
   "outputs": [],
   "source": [
    "# Create path to area of interest for plotting\n",
    "aoi_path = os.path.join(et.io.HOME, \"desktop\", \"drought\", \"data\", \"created\", \"aoi.shp\")\n",
    "\n",
    "# Create path to county boundaries for plotting\n",
    "county_path = os.path.join(et.io.HOME, \"desktop\", \"drought\", \"data\", \"TIGER\", \"cb_2018_us_county_500k.shp\")\n",
    "\n",
    "# Load all CA counties\n",
    "counties = gpd.read_file(county_path)\n",
    "\n",
    "# Select Siskyou county\n",
    "siskiyou = counties[counties.NAME == 'Siskiyou']\n",
    "\n",
    "# Load AoI into gdf\n",
    "aoi = gpd.read_file(aoi_path)"
   ]
  },
  {
   "cell_type": "code",
   "execution_count": 21,
   "metadata": {
    "ExecuteTime": {
     "end_time": "2020-05-04T22:28:27.377504Z",
     "start_time": "2020-05-04T22:28:26.960726Z"
    }
   },
   "outputs": [
    {
     "data": {
      "image/png": "[encoded data removed]",
      "text/plain": [
       "<Figure size 432x288 with 2 Axes>"
      ]
     },
     "metadata": {
      "needs_background": "light"
     },
     "output_type": "display_data"
    }
   ],
   "source": [
    "fig, ax = plt.subplots()\n",
    "\n",
    "ax.set(title=\"Accumulated P/PET, April 2020\")\n",
    "\n",
    "aoi_grid.plot(column='ppet', ax=ax, cmap='coolwarm_r', legend=True,\n",
    "             legend_kwds={'label': \"Accumulated P/PET (mm)\", 'orientation': \"horizontal\"})\n",
    "\n",
    "aoi.plot(ax=ax, color=\"none\", edgecolor=\"green\")\n",
    "\n",
    "siskiyou.plot(ax=ax, color=\"none\", edgecolor=\"moccasin\", linewidth=2.5)\n",
    "\n",
    "ax.set_axis_off()\n",
    "\n",
    "ax.text(0.1, 0.00001, transform=ax.transAxes, s=\"Source: aWhere, 2020\")\n",
    "\n",
    "plt.show()"
   ]
  },
  {
   "cell_type": "code",
   "execution_count": null,
   "metadata": {},
   "outputs": [],
   "source": []
  }
 ],
 "metadata": {
  "kernelspec": {
   "display_name": "Python 3",
   "language": "python",
   "name": "python3"
  },
  "language_info": {
   "codemirror_mode": {
    "name": "ipython",
    "version": 3
   },
   "file_extension": ".py",
   "mimetype": "text/x-python",
   "name": "python",
   "nbconvert_exporter": "python",
   "pygments_lexer": "ipython3",
   "version": "3.7.6"
  },
  "varInspector": {
   "cols": {
    "lenName": 16,
    "lenType": 16,
    "lenVar": 40
   },
   "kernels_config": {
    "python": {
     "delete_cmd_postfix": "",
     "delete_cmd_prefix": "del ",
     "library": "var_list.py",
     "varRefreshCmd": "print(var_dic_list())"
    },
    "r": {
     "delete_cmd_postfix": ") ",
     "delete_cmd_prefix": "rm(",
     "library": "var_list.r",
     "varRefreshCmd": "cat(var_dic_list()) "
    }
   },
   "types_to_exclude": [
    "module",
    "function",
    "builtin_function_or_method",
    "instance",
    "_Feature"
   ],
   "window_display": false
  }
 },
 "nbformat": 4,
 "nbformat_minor": 4
}
